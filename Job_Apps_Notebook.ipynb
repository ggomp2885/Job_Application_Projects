{
 "cells": [
  {
   "cell_type": "markdown",
   "metadata": {},
   "source": [
    "### Notebook containing code snipets for job applications"
   ]
  },
  {
   "cell_type": "code",
   "execution_count": 16,
   "metadata": {},
   "outputs": [
    {
     "name": "stdout",
     "output_type": "stream",
     "text": [
      "[[ 1  1]\n",
      " [10 10]]\n",
      "\n",
      "[[  3   3]\n",
      " [100 100]]\n"
     ]
    }
   ],
   "source": [
    "# matrix multiplation function\n",
    "\n",
    "import numpy as np\n",
    "\n",
    "m_1 = np.array([[1,1],[10,10]])\n",
    "m_2 = np.array([3,10])\n",
    "print(m_1)\n",
    "print()\n",
    "\n",
    "# m_1[0] = m_1[0]*m_2[0]\n",
    "# m_1[1] = m_1[1]*m_2[1]\n",
    "\n",
    "# print(m_1)\n",
    "\n",
    "\n",
    "\n",
    "def matrix_mult(m_1, m_2):\n",
    "    m_1[0] = m_1[0]*m_2[0]\n",
    "    m_1[1] = m_1[1]*m_2[1]\n",
    "    return m_1\n",
    "\n",
    "# Testing\n",
    "print(matrix_mult(m_1, m_2))\n"
   ]
  },
  {
   "cell_type": "code",
   "execution_count": null,
   "metadata": {},
   "outputs": [],
   "source": []
  }
 ],
 "metadata": {
  "kernelspec": {
   "display_name": "Python 3 (Data Science)",
   "language": "python",
   "name": "python3__SAGEMAKER_INTERNAL__arn:aws:sagemaker:us-east-1:081325390199:image/datascience-1.0"
  },
  "language_info": {
   "codemirror_mode": {
    "name": "ipython",
    "version": 3
   },
   "file_extension": ".py",
   "mimetype": "text/x-python",
   "name": "python",
   "nbconvert_exporter": "python",
   "pygments_lexer": "ipython3",
   "version": "3.7.10"
  }
 },
 "nbformat": 4,
 "nbformat_minor": 4
}
