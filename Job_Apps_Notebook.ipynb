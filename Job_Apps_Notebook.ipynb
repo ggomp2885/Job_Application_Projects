{
 "cells": [
  {
   "cell_type": "markdown",
   "metadata": {},
   "source": [
    "### Notebook containing code snipets for job applications"
   ]
  },
  {
   "cell_type": "markdown",
   "metadata": {},
   "source": [
    "In Python 3, write a function that takes two arguments, (1) an n x m matrix and (2) a 1 x n matrix, and that multiplies each row by the corresponding index of the scaling matrix.\n",
    "\n",
    "For example, f(A, [3, 10]), would operate on a 2 x m matrix A and multiply each element of the first row by 3 and the second row by 10."
   ]
  },
  {
   "cell_type": "code",
   "execution_count": 16,
   "metadata": {},
   "outputs": [
    {
     "name": "stdout",
     "output_type": "stream",
     "text": [
      "[[ 1  1]\n",
      " [10 10]]\n",
      "\n",
      "[[  3   3]\n",
      " [100 100]]\n"
     ]
    }
   ],
   "source": [
    "import numpy as np\n",
    "\n",
    "m_1 = np.array([[1,1],[10,10]])\n",
    "m_2 = np.array([3,10])\n",
    "print(m_1)\n",
    "print()\n",
    "\n",
    "# m_1[0] = m_1[0]*m_2[0]\n",
    "# m_1[1] = m_1[1]*m_2[1]\n",
    "\n",
    "# print(m_1)\n",
    "\n",
    "\n",
    "\n",
    "def matrix_mult(m_1, m_2):\n",
    "    m_1[0] = m_1[0]*m_2[0]\n",
    "    m_1[1] = m_1[1]*m_2[1]\n",
    "    return m_1\n",
    "\n",
    "# Testing\n",
    "print(matrix_mult(m_1, m_2))\n"
   ]
  },
  {
   "cell_type": "code",
   "execution_count": null,
   "metadata": {},
   "outputs": [],
   "source": []
  }
 ],
 "metadata": {
  "instance_type": "ml.t3.medium",
  "kernelspec": {
   "display_name": "Python 3 (Data Science)",
   "language": "python",
   "name": "python3__SAGEMAKER_INTERNAL__arn:aws:sagemaker:us-east-1:081325390199:image/datascience-1.0"
  },
  "language_info": {
   "codemirror_mode": {
    "name": "ipython",
    "version": 3
   },
   "file_extension": ".py",
   "mimetype": "text/x-python",
   "name": "python",
   "nbconvert_exporter": "python",
   "pygments_lexer": "ipython3",
   "version": "3.7.6"
  }
 },
 "nbformat": 4,
 "nbformat_minor": 4
}
