{
 "cells": [
  {
   "cell_type": "markdown",
   "metadata": {},
   "source": [
    "### This notebook is for parsing a binary file to read and display 5 outputs"
   ]
  },
  {
   "cell_type": "code",
   "execution_count": 51,
   "metadata": {},
   "outputs": [],
   "source": [
    "import numpy as np"
   ]
  },
  {
   "cell_type": "code",
   "execution_count": null,
   "metadata": {},
   "outputs": [],
   "source": []
  },
  {
   "cell_type": "code",
   "execution_count": 113,
   "metadata": {},
   "outputs": [
    {
     "ename": "TypeError",
     "evalue": "unsupported operand type(s) for |: 'str' and 'str'",
     "output_type": "error",
     "traceback": [
      "\u001b[0;31m---------------------------------------------------------------------------\u001b[0m",
      "\u001b[0;31mTypeError\u001b[0m                                 Traceback (most recent call last)",
      "\u001b[0;32m<ipython-input-113-7cec8ac0d424>\u001b[0m in \u001b[0;36m<module>\u001b[0;34m\u001b[0m\n\u001b[1;32m      9\u001b[0m \u001b[0;34m\u001b[0m\u001b[0m\n\u001b[1;32m     10\u001b[0m \u001b[0;32mfor\u001b[0m \u001b[0mb\u001b[0m \u001b[0;32min\u001b[0m \u001b[0mdata\u001b[0m\u001b[0;34m:\u001b[0m\u001b[0;34m\u001b[0m\u001b[0;34m\u001b[0m\u001b[0m\n\u001b[0;32m---> 11\u001b[0;31m      \u001b[0;32mif\u001b[0m \u001b[0mb\u001b[0m \u001b[0;34m==\u001b[0m \u001b[0;34m'x00'\u001b[0m \u001b[0;34m|\u001b[0m \u001b[0;34m'x01'\u001b[0m\u001b[0;34m:\u001b[0m\u001b[0;34m\u001b[0m\u001b[0;34m\u001b[0m\u001b[0m\n\u001b[0m\u001b[1;32m     12\u001b[0m         \u001b[0mprint\u001b[0m\u001b[0;34m(\u001b[0m\u001b[0;34m'this byte indicates a debit or credit'\u001b[0m\u001b[0;34m)\u001b[0m\u001b[0;34m\u001b[0m\u001b[0;34m\u001b[0m\u001b[0m\n",
      "\u001b[0;31mTypeError\u001b[0m: unsupported operand type(s) for |: 'str' and 'str'"
     ]
    }
   ],
   "source": [
    "with open('txnlog.dat', 'rb') as file:\n",
    "    data = file.read()\n",
    "#     rec_type =file.read(10:11)\n",
    "# print(data)\n",
    "\n",
    "\n",
    "# data_str = str(data)\n",
    "# print(data_str.split('\\\\'))\n",
    "\n",
    "for b in data:\n",
    "     if b == 'x00' | 'x01':\n",
    "        print('this byte indicates a debit or credit')"
   ]
  },
  {
   "cell_type": "code",
   "execution_count": 117,
   "metadata": {},
   "outputs": [
    {
     "ename": "NameError",
     "evalue": "name 'x00' is not defined",
     "output_type": "error",
     "traceback": [
      "\u001b[0;31m---------------------------------------------------------------------------\u001b[0m",
      "\u001b[0;31mNameError\u001b[0m                                 Traceback (most recent call last)",
      "\u001b[0;32m<ipython-input-117-fca20ccffa04>\u001b[0m in \u001b[0;36m<module>\u001b[0;34m\u001b[0m\n\u001b[1;32m      2\u001b[0m     \u001b[0mbyte\u001b[0m \u001b[0;34m=\u001b[0m \u001b[0mf\u001b[0m\u001b[0;34m.\u001b[0m\u001b[0mread\u001b[0m\u001b[0;34m(\u001b[0m\u001b[0;36m1\u001b[0m\u001b[0;34m)\u001b[0m\u001b[0;34m\u001b[0m\u001b[0;34m\u001b[0m\u001b[0m\n\u001b[1;32m      3\u001b[0m     \u001b[0;32mwhile\u001b[0m \u001b[0mbyte\u001b[0m\u001b[0;34m:\u001b[0m\u001b[0;34m\u001b[0m\u001b[0;34m\u001b[0m\u001b[0m\n\u001b[0;32m----> 4\u001b[0;31m         \u001b[0;32mif\u001b[0m \u001b[0mbyte\u001b[0m \u001b[0;34m==\u001b[0m \u001b[0mx00\u001b[0m \u001b[0;34m|\u001b[0m \u001b[0mx01\u001b[0m\u001b[0;34m:\u001b[0m\u001b[0;34m\u001b[0m\u001b[0;34m\u001b[0m\u001b[0m\n\u001b[0m\u001b[1;32m      5\u001b[0m             \u001b[0mprint\u001b[0m\u001b[0;34m(\u001b[0m\u001b[0;34m'this byte indicates a debit or credit'\u001b[0m\u001b[0;34m)\u001b[0m\u001b[0;34m\u001b[0m\u001b[0;34m\u001b[0m\u001b[0m\n\u001b[1;32m      6\u001b[0m         \u001b[0mbyte\u001b[0m \u001b[0;34m=\u001b[0m \u001b[0mf\u001b[0m\u001b[0;34m.\u001b[0m\u001b[0mread\u001b[0m\u001b[0;34m(\u001b[0m\u001b[0;36m1\u001b[0m\u001b[0;34m)\u001b[0m\u001b[0;34m\u001b[0m\u001b[0;34m\u001b[0m\u001b[0m\n",
      "\u001b[0;31mNameError\u001b[0m: name 'x00' is not defined"
     ]
    }
   ],
   "source": [
    "with open(\"txnlog.dat\", \"rb\") as f:\n",
    "    byte = f.read(1)\n",
    "    while byte:\n",
    "        if byte == x00 | x01:\n",
    "            print('this byte indicates a debit or credit')\n",
    "        byte = f.read(1)\n",
    "        "
   ]
  },
  {
   "cell_type": "code",
   "execution_count": 2,
   "metadata": {},
   "outputs": [
    {
     "ename": "AttributeError",
     "evalue": "'bytes' object has no attribute 'encode'",
     "output_type": "error",
     "traceback": [
      "\u001b[0;31m---------------------------------------------------------------------------\u001b[0m",
      "\u001b[0;31mAttributeError\u001b[0m                            Traceback (most recent call last)",
      "\u001b[0;32m<ipython-input-2-214daa494448>\u001b[0m in \u001b[0;36m<module>\u001b[0;34m\u001b[0m\n\u001b[0;32m----> 1\u001b[0;31m \u001b[0mdata\u001b[0m \u001b[0;34m=\u001b[0m \u001b[0mdata\u001b[0m\u001b[0;34m.\u001b[0m\u001b[0mencode\u001b[0m\u001b[0;34m(\u001b[0m\u001b[0;34m'ASCII'\u001b[0m\u001b[0;34m)\u001b[0m\u001b[0;34m\u001b[0m\u001b[0;34m\u001b[0m\u001b[0m\n\u001b[0m\u001b[1;32m      2\u001b[0m \u001b[0mprint\u001b[0m\u001b[0;34m(\u001b[0m\u001b[0mdata\u001b[0m\u001b[0;34m)\u001b[0m\u001b[0;34m\u001b[0m\u001b[0;34m\u001b[0m\u001b[0m\n",
      "\u001b[0;31mAttributeError\u001b[0m: 'bytes' object has no attribute 'encode'"
     ]
    }
   ],
   "source": [
    "data = data.encode('ASCII')\n",
    "print(data)"
   ]
  },
  {
   "cell_type": "code",
   "execution_count": 9,
   "metadata": {},
   "outputs": [
    {
     "data": {
      "text/plain": [
       "array([ 20557,  14163,      1,      0,     71,   2387, -11993,  26425,\n",
       "       -16313,  -9915,   8593, -32192,  12770, -10282, -29394,  21505,\n",
       "        29037,   5226, -20318, -11019, -28741,  16610, -13943,  29449,\n",
       "       -27775,    106,  21843,   8432,   9230,  20875,   5710,  -6400,\n",
       "       -31680,  25317,  21351,  13925,  20994,  -2847,  13243, -11345,\n",
       "        16761, -28605,    137,  29268, -21491,  -7586, -17698,  22696,\n",
       "        29887,  30784, -11813,    248,  15044,  21505,  -4500,  28325,\n",
       "         3518, -16153,  -2824,  16630,    387,   3091,  19492,    730,\n",
       "        -6061, -17860,  23298,  16912,  32156,   -686,  21248,   -803,\n",
       "        23284, -22279, -29680, -25844,  16622,  27236,  -4735,  -4381,\n",
       "          223,  28500,   -299, -19874,  30620, -20711, -17837,  30784,\n",
       "        -8695,  -8184,  30331,  20995, -18478,  25518,  30111,   8353,\n",
       "       -13348,    295, -26797,  -1586,  -7383, -26431,  28227,  -9613,\n",
       "        25408,  15957, -26956, -14215,  21248, -21299,   5596, -15598,\n",
       "       -24330,  13613,  16400, -27765,   9683,  20100,    917,  16980,\n",
       "       -24238,  24866,  28493, -13634,  27187,  21505, -25052,  11611,\n",
       "       -14199,  -2784,  21443,  16591,  -7031, -29820, -13830,    577,\n",
       "        30036,   1810, -32247,   4446,  14704,  19255,  21248,  12227,\n",
       "        16363,  25291,  16236,  29725,  16423,  30340,  -9249,  31754,\n",
       "          576,  31828,  16124, -21705,  16694,  15870,  31210,  20992,\n",
       "       -15927,  23768,   4165, -27016, -26894,  16393,  -7055,  -2387,\n",
       "       -27959,   1018, -31149,  -1502, -16786,  -6387,  -1856,  -2316,\n",
       "        21248,  -8779,  19575, -28557, -20245, -25531,  16595,  25225,\n",
       "        16880,   2558,    818,  -4270, -21715, -29684, -27578,  19109,\n",
       "        18423,  21504,  -3319,   7115, -29703, -22046, -29225,  16499,\n",
       "       -15230,   6338,  -1121,    496,  23380,  -2963, -14027, -15954,\n",
       "       -12444,   -651, -29376, -18251,  29441,   -235,  21249,  24008,\n",
       "        24058,  -2834,  -6514,   7259,  16602, -23934,   -498, -27846,\n",
       "          609, -18349,   4046,  27756,   4621, -16778,  25186,  21505,\n",
       "        -6766,   4444, -22962,  -5706,  22035,  16450, -16277,  -2516,\n",
       "        30475,     83, -15789,  29161,   6178,  29132, -22426, -30919,\n",
       "        28480, -18670,  22210, -21499,  21504,   9524,  30414,   3339,\n",
       "         1314,  17153,  16550,  -9587,  -3499,  11113,    153, -13998,\n",
       "       -32397, -20934,  15934,  12362,   1366, -29888, -28085,  24941,\n",
       "       -31442,  21504,  -5325,  13451, -23628,   5064,  18131,  16565,\n",
       "        16755,  23969,  14842,    654,   -942,   6435,  18716, -17232,\n",
       "        12537,  -8012,  21248, -14779,  26621,  30126,   8516,   6921,\n",
       "        16590, -10615,   7082,  17910,    650,  27475, -25996, -15312,\n",
       "       -19182,  11316,  -9444,  21248, -21689,  17068,  22049,  19650,\n",
       "        19591,  16547,    382, -17964,  31515,    253,  19284,  -8834,\n",
       "        -2978,   7912,  17886, -21151, -32704, -21578,  16255, -18094,\n",
       "        21504,   2343,  29307,  28178,  -3964, -20825,  16582,  12431,\n",
       "         8433,  22048,    980,  -8621,  10431,  -5516, -20670,  11713,\n",
       "        19989,  21248,   2342,   4434,   5268,  21733, -12491,  16636,\n",
       "         2425, -13732, -19041,    210,  14931,  19048,  12907,  22805,\n",
       "        30388, -14697,  28992, -31113,  -9992, -17737,  21248,   6683,\n",
       "        27567, -21851,  -6570,   8101,  16471,  22628, -19844,  -8643,\n",
       "          859,  28500,   4871,  21879, -32542, -24939,   -704,  20992,\n",
       "       -29732,  16878,   8594,   4678,  25238,  16388, -13727,  22711,\n",
       "       -13172,     76, -10414,   2673,  22821, -31622,  29489, -30601,\n",
       "       -31936,  13001,  22687, -28498,  21506, -14966,   5281,  17224,\n",
       "        -5848,  20747,    418,   7251,  29492, -17843,   3963, -24163,\n",
       "        -5161, -30912,  28458,   1606,  30868,  21504, -27547,  16490,\n",
       "       -23075,   2358,  15462,  16625, -10881,  10701, -12154,     18,\n",
       "        28500,   7885,   8541,  25664, -32511,  -9645,  29504,  27229,\n",
       "        18843,  18168,  21248,  11073,    953, -22436,  29197,   6738,\n",
       "        16528,  31355, -14444,  10263,    583, -10669,  -6023, -26759,\n",
       "       -30580, -17276,  13715,  20992,   8181,   5995,  24126,   2414,\n",
       "       -13872,  16400,  11377,  27923,  10492,    123,  32084,  -1067,\n",
       "        17467,  -8224, -25419, -13537,  30784, -20083,  -6240, -11569,\n",
       "        21248,  19634,   3254,   4467,    879, -13771,  16583, -14718,\n",
       "        26763,  15506,    824, -27053,  21248, -20719,  12724, -16906,\n",
       "        20276,  21249, -22493,   2599,  22258, -31997,  31185,  16393,\n",
       "        22405, -10800, -21930,     51, -26796, -26814,   4629,  -2365,\n",
       "        11680,   4149,  22592,  18101, -15060,  22418,  21248, -25922,\n",
       "          165,  10201,   9476,  13504,  16438,   1393, -24174,  25338,\n",
       "          229, -16301,   6984,  -7879,  32209, -23436, -26801, -32448,\n",
       "        32355, -12041,  19010,  21248, -15193,  13681,  25889, -31039,\n",
       "       -28554,  16439, -12416,  24650,  23502,    604,  23380,  28796,\n",
       "        20300,   4245,   2423,  10220,  20992,   5846,  15242, -26008,\n",
       "        -8106,  12052,  16567, -26765,  29224,  -7639,    235,  11603,\n",
       "        23245,  14427,  19079,   9002,  -7872, -31168, -18406,   6711,\n",
       "        -5391,  21507,   1589,   4300, -11062,   4038, -28524,    336,\n",
       "        24147,  29805,   8573,  -2581,   5832, -11570, -32448,  22594,\n",
       "       -18348,  23651,  20992,   5365,  31345, -27151, -28146, -30307,\n",
       "        16595,  -9845,  -7191,  20461,    386,  29268, -21491,  -7586,\n",
       "       -17698,  22696,  29887,  30784, -11813,    248,  15044,  21505,\n",
       "       -10897,  24318, -25422,   6519,  21423,  16570,   2424,   2270,\n",
       "        31712,    374, -15789,  29161,   6178,  29132, -22426, -30919,\n",
       "        28480, -18670,  22210, -21499,  21505,   9524,  30414,   3339,\n",
       "         1314,  17153,  16550,  -9587,  -3499,  11113,    409, -10414,\n",
       "         2673,  22821, -31622,  29489, -30601, -31936,  13001,  22687,\n",
       "       -28498,  21505, -12945,  23838,  16417,    356,  21377,  16602,\n",
       "        23923, -25750,  -1975,    326,  -2734,  27423,  15895,  28254,\n",
       "       -12279,   4297,  28992,   4908,   -915,  31528,  21249, -13011,\n",
       "        23386, -30920,  10826,  16419,  16609,   6790,  14264,  -3814],\n",
       "      dtype=int16)"
      ]
     },
     "metadata": {},
     "output_type": "display_data"
    }
   ],
   "source": [
    "display(np.fromfile(\"txnlog.dat\",  dtype=np.int16))"
   ]
  },
  {
   "cell_type": "code",
   "execution_count": 12,
   "metadata": {},
   "outputs": [
    {
     "ename": "UnicodeDecodeError",
     "evalue": "'utf-8' codec can't decode byte 0xd1 in position 13: invalid continuation byte",
     "output_type": "error",
     "traceback": [
      "\u001b[0;31m---------------------------------------------------------------------------\u001b[0m",
      "\u001b[0;31mUnicodeDecodeError\u001b[0m                        Traceback (most recent call last)",
      "\u001b[0;32m<ipython-input-12-3b2762ac0dff>\u001b[0m in \u001b[0;36m<module>\u001b[0;34m\u001b[0m\n\u001b[1;32m      2\u001b[0m \u001b[0;32mwith\u001b[0m \u001b[0mopen\u001b[0m\u001b[0;34m(\u001b[0m\u001b[0;34m'txnlog.dat'\u001b[0m\u001b[0;34m,\u001b[0m \u001b[0;34m'r'\u001b[0m\u001b[0;34m)\u001b[0m \u001b[0;32mas\u001b[0m \u001b[0mfile\u001b[0m\u001b[0;34m:\u001b[0m\u001b[0;34m\u001b[0m\u001b[0;34m\u001b[0m\u001b[0m\n\u001b[1;32m      3\u001b[0m     \u001b[0mreader\u001b[0m \u001b[0;34m=\u001b[0m \u001b[0mcsv\u001b[0m\u001b[0;34m.\u001b[0m\u001b[0mreader\u001b[0m\u001b[0;34m(\u001b[0m\u001b[0mfile\u001b[0m\u001b[0;34m)\u001b[0m\u001b[0;34m\u001b[0m\u001b[0;34m\u001b[0m\u001b[0m\n\u001b[0;32m----> 4\u001b[0;31m     \u001b[0;32mfor\u001b[0m \u001b[0mrow\u001b[0m \u001b[0;32min\u001b[0m \u001b[0mreader\u001b[0m\u001b[0;34m:\u001b[0m\u001b[0;34m\u001b[0m\u001b[0;34m\u001b[0m\u001b[0m\n\u001b[0m\u001b[1;32m      5\u001b[0m         \u001b[0mprint\u001b[0m\u001b[0;34m(\u001b[0m\u001b[0mrow\u001b[0m\u001b[0;34m)\u001b[0m\u001b[0;34m\u001b[0m\u001b[0;34m\u001b[0m\u001b[0m\n",
      "\u001b[0;32m/opt/conda/lib/python3.7/codecs.py\u001b[0m in \u001b[0;36mdecode\u001b[0;34m(self, input, final)\u001b[0m\n\u001b[1;32m    320\u001b[0m         \u001b[0;31m# decode input (taking the buffer into account)\u001b[0m\u001b[0;34m\u001b[0m\u001b[0;34m\u001b[0m\u001b[0;34m\u001b[0m\u001b[0m\n\u001b[1;32m    321\u001b[0m         \u001b[0mdata\u001b[0m \u001b[0;34m=\u001b[0m \u001b[0mself\u001b[0m\u001b[0;34m.\u001b[0m\u001b[0mbuffer\u001b[0m \u001b[0;34m+\u001b[0m \u001b[0minput\u001b[0m\u001b[0;34m\u001b[0m\u001b[0;34m\u001b[0m\u001b[0m\n\u001b[0;32m--> 322\u001b[0;31m         \u001b[0;34m(\u001b[0m\u001b[0mresult\u001b[0m\u001b[0;34m,\u001b[0m \u001b[0mconsumed\u001b[0m\u001b[0;34m)\u001b[0m \u001b[0;34m=\u001b[0m \u001b[0mself\u001b[0m\u001b[0;34m.\u001b[0m\u001b[0m_buffer_decode\u001b[0m\u001b[0;34m(\u001b[0m\u001b[0mdata\u001b[0m\u001b[0;34m,\u001b[0m \u001b[0mself\u001b[0m\u001b[0;34m.\u001b[0m\u001b[0merrors\u001b[0m\u001b[0;34m,\u001b[0m \u001b[0mfinal\u001b[0m\u001b[0;34m)\u001b[0m\u001b[0;34m\u001b[0m\u001b[0;34m\u001b[0m\u001b[0m\n\u001b[0m\u001b[1;32m    323\u001b[0m         \u001b[0;31m# keep undecoded input until the next call\u001b[0m\u001b[0;34m\u001b[0m\u001b[0;34m\u001b[0m\u001b[0;34m\u001b[0m\u001b[0m\n\u001b[1;32m    324\u001b[0m         \u001b[0mself\u001b[0m\u001b[0;34m.\u001b[0m\u001b[0mbuffer\u001b[0m \u001b[0;34m=\u001b[0m \u001b[0mdata\u001b[0m\u001b[0;34m[\u001b[0m\u001b[0mconsumed\u001b[0m\u001b[0;34m:\u001b[0m\u001b[0;34m]\u001b[0m\u001b[0;34m\u001b[0m\u001b[0;34m\u001b[0m\u001b[0m\n",
      "\u001b[0;31mUnicodeDecodeError\u001b[0m: 'utf-8' codec can't decode byte 0xd1 in position 13: invalid continuation byte"
     ]
    }
   ],
   "source": [
    "import csv\n",
    "with open('txnlog.dat', 'r') as file:\n",
    "    reader = csv.reader(file)\n",
    "    for row in reader:\n",
    "        print(row)"
   ]
  },
  {
   "cell_type": "code",
   "execution_count": 13,
   "metadata": {},
   "outputs": [
    {
     "ename": "error",
     "evalue": "unpack requires a buffer of 8 bytes",
     "output_type": "error",
     "traceback": [
      "\u001b[0;31m---------------------------------------------------------------------------\u001b[0m",
      "\u001b[0;31merror\u001b[0m                                     Traceback (most recent call last)",
      "\u001b[0;32m<ipython-input-13-018eb111fb49>\u001b[0m in \u001b[0;36m<module>\u001b[0;34m\u001b[0m\n\u001b[1;32m      3\u001b[0m \u001b[0mdata\u001b[0m \u001b[0;34m=\u001b[0m \u001b[0mopen\u001b[0m\u001b[0;34m(\u001b[0m\u001b[0;34m\"txnlog.dat\"\u001b[0m\u001b[0;34m,\u001b[0m \u001b[0;34m\"rb\"\u001b[0m\u001b[0;34m)\u001b[0m\u001b[0;34m.\u001b[0m\u001b[0mread\u001b[0m\u001b[0;34m(\u001b[0m\u001b[0;34m)\u001b[0m\u001b[0;34m\u001b[0m\u001b[0;34m\u001b[0m\u001b[0m\n\u001b[1;32m      4\u001b[0m \u001b[0;34m\u001b[0m\u001b[0m\n\u001b[0;32m----> 5\u001b[0;31m \u001b[0;34m(\u001b[0m\u001b[0meight\u001b[0m\u001b[0;34m,\u001b[0m \u001b[0mN\u001b[0m\u001b[0;34m)\u001b[0m \u001b[0;34m=\u001b[0m \u001b[0mstruct\u001b[0m\u001b[0;34m.\u001b[0m\u001b[0munpack\u001b[0m\u001b[0;34m(\u001b[0m\u001b[0;34m\"@II\"\u001b[0m\u001b[0;34m,\u001b[0m \u001b[0mdata\u001b[0m\u001b[0;34m)\u001b[0m\u001b[0;34m\u001b[0m\u001b[0;34m\u001b[0m\u001b[0m\n\u001b[0m",
      "\u001b[0;31merror\u001b[0m: unpack requires a buffer of 8 bytes"
     ]
    }
   ],
   "source": [
    "import struct\n",
    "\n",
    "data = open(\"txnlog.dat\", \"rb\").read()\n",
    "\n",
    "(eight, N) = struct.unpack(\"@II\", data)"
   ]
  },
  {
   "cell_type": "code",
   "execution_count": null,
   "metadata": {},
   "outputs": [],
   "source": [
    "!pip install binaryfile"
   ]
  },
  {
   "cell_type": "code",
   "execution_count": 15,
   "metadata": {},
   "outputs": [
    {
     "ename": "EOFError",
     "evalue": "While reading (root).group_ids",
     "output_type": "error",
     "traceback": [
      "\u001b[0;31m---------------------------------------------------------------------------\u001b[0m",
      "\u001b[0;31mEOFError\u001b[0m                                  Traceback (most recent call last)",
      "\u001b[0;32m<ipython-input-15-0092de4f7489>\u001b[0m in \u001b[0;36m<module>\u001b[0;34m\u001b[0m\n\u001b[1;32m     12\u001b[0m \u001b[0;34m\u001b[0m\u001b[0m\n\u001b[1;32m     13\u001b[0m \u001b[0;32mwith\u001b[0m \u001b[0mopen\u001b[0m\u001b[0;34m(\u001b[0m\u001b[0;34m'txnlog.dat'\u001b[0m\u001b[0;34m,\u001b[0m \u001b[0;34m'rb'\u001b[0m\u001b[0;34m)\u001b[0m \u001b[0;32mas\u001b[0m \u001b[0mfh\u001b[0m\u001b[0;34m:\u001b[0m\u001b[0;34m\u001b[0m\u001b[0;34m\u001b[0m\u001b[0m\n\u001b[0;32m---> 14\u001b[0;31m     \u001b[0mresult\u001b[0m \u001b[0;34m=\u001b[0m \u001b[0mbinaryfile\u001b[0m\u001b[0;34m.\u001b[0m\u001b[0mread\u001b[0m\u001b[0;34m(\u001b[0m\u001b[0mfh\u001b[0m\u001b[0;34m,\u001b[0m \u001b[0mparticle_file\u001b[0m\u001b[0;34m)\u001b[0m\u001b[0;34m\u001b[0m\u001b[0;34m\u001b[0m\u001b[0m\n\u001b[0m\u001b[1;32m     15\u001b[0m \u001b[0mprint\u001b[0m\u001b[0;34m(\u001b[0m\u001b[0mresult\u001b[0m\u001b[0;34m)\u001b[0m\u001b[0;34m\u001b[0m\u001b[0;34m\u001b[0m\u001b[0m\n",
      "\u001b[0;32m/opt/conda/lib/python3.7/site-packages/binaryfile/fileformat.py\u001b[0m in \u001b[0;36mread\u001b[0;34m(handle, definition, result_type)\u001b[0m\n\u001b[1;32m     17\u001b[0m \t\"\"\"\n\u001b[1;32m     18\u001b[0m         \u001b[0mreader\u001b[0m \u001b[0;34m=\u001b[0m \u001b[0mBinarySectionReader\u001b[0m\u001b[0;34m(\u001b[0m\u001b[0mhandle\u001b[0m\u001b[0;34m,\u001b[0m \u001b[0mresult_type\u001b[0m\u001b[0;34m)\u001b[0m\u001b[0;34m\u001b[0m\u001b[0;34m\u001b[0m\u001b[0m\n\u001b[0;32m---> 19\u001b[0;31m         \u001b[0mdefinition\u001b[0m\u001b[0;34m(\u001b[0m\u001b[0mreader\u001b[0m\u001b[0;34m)\u001b[0m\u001b[0;34m\u001b[0m\u001b[0;34m\u001b[0m\u001b[0m\n\u001b[0m\u001b[1;32m     20\u001b[0m         \u001b[0;32mreturn\u001b[0m \u001b[0mreader\u001b[0m\u001b[0;34m.\u001b[0m\u001b[0mresult\u001b[0m\u001b[0;34m\u001b[0m\u001b[0;34m\u001b[0m\u001b[0m\n\u001b[1;32m     21\u001b[0m \u001b[0;34m\u001b[0m\u001b[0m\n",
      "\u001b[0;32m<ipython-input-15-0092de4f7489>\u001b[0m in \u001b[0;36mparticle_file\u001b[0;34m(f)\u001b[0m\n\u001b[1;32m      8\u001b[0m     \u001b[0mf\u001b[0m\u001b[0;34m.\u001b[0m\u001b[0mskip\u001b[0m\u001b[0;34m(\u001b[0m\u001b[0;36m8\u001b[0m\u001b[0;34m)\u001b[0m  \u001b[0;31m# Bytes 13-20\u001b[0m\u001b[0;34m\u001b[0m\u001b[0;34m\u001b[0m\u001b[0m\n\u001b[1;32m      9\u001b[0m     \u001b[0;32mfor\u001b[0m \u001b[0mi\u001b[0m \u001b[0;32min\u001b[0m \u001b[0mrange\u001b[0m\u001b[0;34m(\u001b[0m\u001b[0mnum_particles\u001b[0m\u001b[0;34m)\u001b[0m\u001b[0;34m:\u001b[0m\u001b[0;34m\u001b[0m\u001b[0;34m\u001b[0m\u001b[0m\n\u001b[0;32m---> 10\u001b[0;31m         \u001b[0mf\u001b[0m\u001b[0;34m.\u001b[0m\u001b[0mstruct\u001b[0m\u001b[0;34m(\u001b[0m\u001b[0;34m'group_ids'\u001b[0m\u001b[0;34m,\u001b[0m \u001b[0;34m'>f'\u001b[0m\u001b[0;34m)\u001b[0m  \u001b[0;31m# 4 bytes x num_particles\u001b[0m\u001b[0;34m\u001b[0m\u001b[0;34m\u001b[0m\u001b[0m\n\u001b[0m\u001b[1;32m     11\u001b[0m     \u001b[0mf\u001b[0m\u001b[0;34m.\u001b[0m\u001b[0mskip\u001b[0m\u001b[0;34m(\u001b[0m\u001b[0;36m4\u001b[0m\u001b[0;34m)\u001b[0m\u001b[0;34m\u001b[0m\u001b[0;34m\u001b[0m\u001b[0m\n\u001b[1;32m     12\u001b[0m \u001b[0;34m\u001b[0m\u001b[0m\n",
      "\u001b[0;32m/opt/conda/lib/python3.7/site-packages/binaryfile/fileformat.py\u001b[0m in \u001b[0;36mstruct\u001b[0;34m(self, name, formatstr)\u001b[0m\n\u001b[1;32m    173\u001b[0m         \u001b[0;32mdef\u001b[0m \u001b[0mstruct\u001b[0m\u001b[0;34m(\u001b[0m\u001b[0mself\u001b[0m\u001b[0;34m,\u001b[0m \u001b[0mname\u001b[0m\u001b[0;34m,\u001b[0m \u001b[0mformatstr\u001b[0m\u001b[0;34m)\u001b[0m\u001b[0;34m:\u001b[0m\u001b[0;34m\u001b[0m\u001b[0;34m\u001b[0m\u001b[0m\n\u001b[1;32m    174\u001b[0m                 \u001b[0msize\u001b[0m \u001b[0;34m=\u001b[0m \u001b[0mstruct\u001b[0m\u001b[0;34m.\u001b[0m\u001b[0mcalcsize\u001b[0m\u001b[0;34m(\u001b[0m\u001b[0mformatstr\u001b[0m\u001b[0;34m)\u001b[0m\u001b[0;34m\u001b[0m\u001b[0;34m\u001b[0m\u001b[0m\n\u001b[0;32m--> 175\u001b[0;31m                 \u001b[0mbytes_\u001b[0m \u001b[0;34m=\u001b[0m \u001b[0mself\u001b[0m\u001b[0;34m.\u001b[0m\u001b[0m_read_bytes\u001b[0m\u001b[0;34m(\u001b[0m\u001b[0mname\u001b[0m\u001b[0;34m,\u001b[0m \u001b[0msize\u001b[0m\u001b[0;34m)\u001b[0m\u001b[0;34m\u001b[0m\u001b[0;34m\u001b[0m\u001b[0m\n\u001b[0m\u001b[1;32m    176\u001b[0m                 \u001b[0mresult\u001b[0m \u001b[0;34m=\u001b[0m \u001b[0mstruct\u001b[0m\u001b[0;34m.\u001b[0m\u001b[0munpack\u001b[0m\u001b[0;34m(\u001b[0m\u001b[0mformatstr\u001b[0m\u001b[0;34m,\u001b[0m \u001b[0mbytes_\u001b[0m\u001b[0;34m)\u001b[0m\u001b[0;34m\u001b[0m\u001b[0;34m\u001b[0m\u001b[0m\n\u001b[1;32m    177\u001b[0m                 \u001b[0mself\u001b[0m\u001b[0;34m.\u001b[0m\u001b[0m_add_result\u001b[0m\u001b[0;34m(\u001b[0m\u001b[0mname\u001b[0m\u001b[0;34m,\u001b[0m \u001b[0mresult\u001b[0m\u001b[0;34m)\u001b[0m\u001b[0;34m\u001b[0m\u001b[0;34m\u001b[0m\u001b[0m\n",
      "\u001b[0;32m/opt/conda/lib/python3.7/site-packages/binaryfile/fileformat.py\u001b[0m in \u001b[0;36m_read_bytes\u001b[0;34m(self, name, size)\u001b[0m\n\u001b[1;32m    188\u001b[0m                         \u001b[0;32mreturn\u001b[0m \u001b[0mbytes_\u001b[0m\u001b[0;34m\u001b[0m\u001b[0;34m\u001b[0m\u001b[0m\n\u001b[1;32m    189\u001b[0m                 \u001b[0;32mif\u001b[0m \u001b[0mlen\u001b[0m\u001b[0;34m(\u001b[0m\u001b[0mbytes_\u001b[0m\u001b[0;34m)\u001b[0m \u001b[0;34m<\u001b[0m \u001b[0msize\u001b[0m\u001b[0;34m:\u001b[0m\u001b[0;34m\u001b[0m\u001b[0;34m\u001b[0m\u001b[0m\n\u001b[0;32m--> 190\u001b[0;31m                         \u001b[0;32mraise\u001b[0m \u001b[0mEOFError\u001b[0m\u001b[0;34m(\u001b[0m\u001b[0;34mf'While reading {self.get_qualified_field_name(name)}'\u001b[0m\u001b[0;34m)\u001b[0m\u001b[0;34m\u001b[0m\u001b[0;34m\u001b[0m\u001b[0m\n\u001b[0m\u001b[1;32m    191\u001b[0m                 \u001b[0;32mreturn\u001b[0m \u001b[0mbytes_\u001b[0m\u001b[0;34m\u001b[0m\u001b[0;34m\u001b[0m\u001b[0m\n\u001b[1;32m    192\u001b[0m         \u001b[0;32mdef\u001b[0m \u001b[0m_int\u001b[0m\u001b[0;34m(\u001b[0m\u001b[0mself\u001b[0m\u001b[0;34m,\u001b[0m \u001b[0mname\u001b[0m\u001b[0;34m,\u001b[0m \u001b[0msize\u001b[0m\u001b[0;34m,\u001b[0m \u001b[0mbyteorder\u001b[0m\u001b[0;34m,\u001b[0m \u001b[0msigned\u001b[0m\u001b[0;34m)\u001b[0m\u001b[0;34m:\u001b[0m\u001b[0;34m\u001b[0m\u001b[0;34m\u001b[0m\u001b[0m\n",
      "\u001b[0;31mEOFError\u001b[0m: While reading (root).group_ids"
     ]
    }
   ],
   "source": [
    "import binaryfile\n",
    "\n",
    "def particle_file(f):\n",
    "    f.array('group_ids')  # Declare group_ids to be an array (so we can use it in a loop)\n",
    "    f.skip(9)  # Bytes 1-4\n",
    "    num_particles = f.count('num_particles', 'group_ids', 4)  # Bytes 5-8\n",
    "    f.int('num_groups', 4)  # Bytes 9-12\n",
    "    f.skip(8)  # Bytes 13-20\n",
    "    for i in range(num_particles):\n",
    "        f.struct('group_ids', '>f')  # 4 bytes x num_particles\n",
    "    f.skip(4)\n",
    "\n",
    "with open('txnlog.dat', 'rb') as fh:\n",
    "    result = binaryfile.read(fh, particle_file)\n",
    "print(result)"
   ]
  },
  {
   "cell_type": "code",
   "execution_count": 100,
   "metadata": {},
   "outputs": [
    {
     "data": {
      "text/html": [
       "<div>\n",
       "<style scoped>\n",
       "    .dataframe tbody tr th:only-of-type {\n",
       "        vertical-align: middle;\n",
       "    }\n",
       "\n",
       "    .dataframe tbody tr th {\n",
       "        vertical-align: top;\n",
       "    }\n",
       "\n",
       "    .dataframe thead th {\n",
       "        text-align: right;\n",
       "    }\n",
       "</style>\n",
       "<table border=\"1\" class=\"dataframe\">\n",
       "  <thead>\n",
       "    <tr style=\"text-align: right;\">\n",
       "      <th></th>\n",
       "      <th>record type</th>\n",
       "      <th>Unix timestamp</th>\n",
       "      <th>User ID</th>\n",
       "      <th>amount in dollars</th>\n",
       "    </tr>\n",
       "  </thead>\n",
       "  <tbody>\n",
       "    <tr>\n",
       "      <th>0</th>\n",
       "      <td>b'\\x00'</td>\n",
       "      <td>1393108945</td>\n",
       "      <td>4136353673894269217</td>\n",
       "      <td>6.042743e+02</td>\n",
       "    </tr>\n",
       "    <tr>\n",
       "      <th>1</th>\n",
       "      <td>b'\\x01'</td>\n",
       "      <td>1416458602</td>\n",
       "      <td>1486945396868222946</td>\n",
       "      <td>8.251296e+02</td>\n",
       "    </tr>\n",
       "    <tr>\n",
       "      <th>2</th>\n",
       "      <td>b'\\x00'</td>\n",
       "      <td>1398140960</td>\n",
       "      <td>1019092597011251431</td>\n",
       "      <td>6.686730e+02</td>\n",
       "    </tr>\n",
       "    <tr>\n",
       "      <th>3</th>\n",
       "      <td>b'\\x02'</td>\n",
       "      <td>1390539963</td>\n",
       "      <td>3724427934598140041</td>\n",
       "      <td>4.549279e-307</td>\n",
       "    </tr>\n",
       "    <tr>\n",
       "      <th>4</th>\n",
       "      <td>b'\\xba'</td>\n",
       "      <td>2824388468</td>\n",
       "      <td>4645704710488114234</td>\n",
       "      <td>2.978499e-302</td>\n",
       "    </tr>\n",
       "    <tr>\n",
       "      <th>...</th>\n",
       "      <td>...</td>\n",
       "      <td>...</td>\n",
       "      <td>...</td>\n",
       "      <td>...</td>\n",
       "    </tr>\n",
       "    <tr>\n",
       "      <th>60</th>\n",
       "      <td>b'V'</td>\n",
       "      <td>95158612</td>\n",
       "      <td>3757636470497419781</td>\n",
       "      <td>1.432663e-302</td>\n",
       "    </tr>\n",
       "    <tr>\n",
       "      <th>61</th>\n",
       "      <td>b'i'</td>\n",
       "      <td>731447634</td>\n",
       "      <td>15524200546054079537</td>\n",
       "      <td>1.645355e+248</td>\n",
       "    </tr>\n",
       "    <tr>\n",
       "      <th>62</th>\n",
       "      <td>b'X'</td>\n",
       "      <td>2928673108</td>\n",
       "      <td>8056128693774345217</td>\n",
       "      <td>-2.894947e-302</td>\n",
       "    </tr>\n",
       "    <tr>\n",
       "      <th>63</th>\n",
       "      <td>b'I'</td>\n",
       "      <td>4165337426</td>\n",
       "      <td>17662954011145170441</td>\n",
       "      <td>-1.485902e+81</td>\n",
       "    </tr>\n",
       "    <tr>\n",
       "      <th>64</th>\n",
       "      <td>b'\\xfc'</td>\n",
       "      <td>679149907</td>\n",
       "      <td>3300393449769355818</td>\n",
       "      <td>7.087313e-139</td>\n",
       "    </tr>\n",
       "  </tbody>\n",
       "</table>\n",
       "<p>65 rows × 4 columns</p>\n",
       "</div>"
      ],
      "text/plain": [
       "   record type  Unix timestamp               User ID  amount in dollars\n",
       "0      b'\\x00'      1393108945   4136353673894269217       6.042743e+02\n",
       "1      b'\\x01'      1416458602   1486945396868222946       8.251296e+02\n",
       "2      b'\\x00'      1398140960   1019092597011251431       6.686730e+02\n",
       "3      b'\\x02'      1390539963   3724427934598140041      4.549279e-307\n",
       "4      b'\\xba'      2824388468   4645704710488114234      2.978499e-302\n",
       "..         ...             ...                   ...                ...\n",
       "60        b'V'        95158612   3757636470497419781      1.432663e-302\n",
       "61        b'i'       731447634  15524200546054079537      1.645355e+248\n",
       "62        b'X'      2928673108   8056128693774345217     -2.894947e-302\n",
       "63        b'I'      4165337426  17662954011145170441      -1.485902e+81\n",
       "64     b'\\xfc'       679149907   3300393449769355818      7.087313e-139\n",
       "\n",
       "[65 rows x 4 columns]"
      ]
     },
     "metadata": {},
     "output_type": "display_data"
    },
    {
     "data": {
      "text/plain": [
       "<member 'byteorder' of 'numpy.dtype' objects>"
      ]
     },
     "metadata": {},
     "output_type": "display_data"
    }
   ],
   "source": [
    "import numpy as np\n",
    "import pandas as pd\n",
    "\n",
    "for index, val in enumerate data\n",
    "    if current_rec_type == 'b\\x00' | 'b\\x01':\n",
    "        dt = np.dtype([('record type', '>V1'), ('Unix timestamp', '>u4'),\n",
    "                       ('User ID', '>u8'),('amount in dollars', '>f8')])\n",
    "    else\n",
    "        dt = np.dtype([('record type', '>V1'), ('Unix timestamp', '>u4'),\n",
    "                       ('User ID', '>u8')])\n",
    "\n",
    "records = np.fromfile('txnlog.dat', dt, offset=9)\n",
    "\n",
    "df = DataFrame(records)\n",
    "display(df)\n",
    "\n",
    "display(dtype.byteorder)"
   ]
  },
  {
   "cell_type": "markdown",
   "metadata": {},
   "source": [
    "Okay so Im going to leave it here for now, I am at the point where I am successfully decoding each of the byte blocks from the binary file, and now, the only thing left to do, is figure out a system that can change the dtype format, when a specific raw byte shows up first. Once I have this, Ill be able  to run the simple .count functions and send it in."
   ]
  },
  {
   "cell_type": "code",
   "execution_count": null,
   "metadata": {},
   "outputs": [],
   "source": [
    "import struct\n",
    "unpacked = struct.unpack('>cLQd', data)\n",
    "df =pd.DataFrame(unpacked)\n",
    "# struct.calcsize()\n",
    "display(data)"
   ]
  },
  {
   "cell_type": "markdown",
   "metadata": {},
   "source": [
    "Okay so the \"fmt\" arugment in the unpack() function holds the format of the data\n",
    "putting \">\" at the begining of the \"fmt\" argument, specifies that the bytes are in \"network byte\" order, also known as \"big-endian\" order.\n",
    "\n",
    "Format for unpacking:\n",
    "enum  = char       = 'c' (1 byte)\n",
    "uint32 = long      = 'L' (4 bytes)\n",
    "uint64 = long long = 'Q' (8 bytes)\n",
    "float64 = double   = 'd' (8 bytes)"
   ]
  }
 ],
 "metadata": {
  "kernelspec": {
   "display_name": "Python 3 (Data Science)",
   "language": "python",
   "name": "python3__SAGEMAKER_INTERNAL__arn:aws:sagemaker:us-east-1:081325390199:image/datascience-1.0"
  },
  "language_info": {
   "codemirror_mode": {
    "name": "ipython",
    "version": 3
   },
   "file_extension": ".py",
   "mimetype": "text/x-python",
   "name": "python",
   "nbconvert_exporter": "python",
   "pygments_lexer": "ipython3",
   "version": "3.7.6"
  }
 },
 "nbformat": 4,
 "nbformat_minor": 4
}
